{
 "cells": [
  {
   "cell_type": "markdown",
   "metadata": {},
   "source": [
    "<img align=\"left\" src=\"images/peshitta2.png\"/>\n",
    "\n",
    "<img align=\"right\" src=\"images/tf-small.png\"/>\n",
    "<img align=\"right\" src=\"images/etcbc.png\"/>\n",
    "\n",
    "Here are a few examples of processing the CALAP text by means of Text-Fabric.\n",
    "\n",
    "About CALAP and how we got it into Text-Fabric, see [tfFromMql.ipynb](tfFromMql.ipynb)."
   ]
  },
  {
   "cell_type": "code",
   "execution_count": 1,
   "metadata": {
    "ExecuteTime": {
     "end_time": "2018-02-16T10:47:21.798571Z",
     "start_time": "2018-02-16T10:47:21.780623Z"
    }
   },
   "outputs": [],
   "source": [
    "import os,sys,collections\n",
    "from tf.fabric import Fabric"
   ]
  },
  {
   "cell_type": "code",
   "execution_count": 2,
   "metadata": {
    "ExecuteTime": {
     "end_time": "2018-02-16T10:47:22.732015Z",
     "start_time": "2018-02-16T10:47:22.720067Z"
    }
   },
   "outputs": [],
   "source": [
    "PROJECT = 'calap'\n",
    "VERSION = '2014'\n",
    "\n",
    "repoBase = os.path.expanduser('~/github/etcbc')\n",
    "thisRepo = '{}/{}'.format(repoBase, PROJECT)\n",
    "\n",
    "thisTemp = '{}/_temp/{}'.format(thisRepo, VERSION)\n",
    "\n",
    "CALAP = '{}/tf/{}'.format(thisRepo, VERSION)"
   ]
  },
  {
   "cell_type": "code",
   "execution_count": 3,
   "metadata": {
    "ExecuteTime": {
     "end_time": "2018-02-16T10:47:27.927183Z",
     "start_time": "2018-02-16T10:47:26.987467Z"
    }
   },
   "outputs": [
    {
     "name": "stdout",
     "output_type": "stream",
     "text": [
      "This is Text-Fabric 3.1.5\n",
      "Api reference : https://github.com/Dans-labs/text-fabric/wiki/Api\n",
      "Tutorial      : https://github.com/Dans-labs/text-fabric/blob/master/docs/tutorial.ipynb\n",
      "Example data  : https://github.com/Dans-labs/text-fabric-data\n",
      "\n",
      "39 features found and 0 ignored\n",
      "  0.00s loading features ...\n",
      "   |     0.00s Feature overview: 36 for nodes; 1 for edges; 2 configs; 7 computed\n",
      "  0.32s All features loaded/computed - for details use loadLog()\n",
      "   |     0.00s Feature overview: 36 for nodes; 1 for edges; 2 configs; 7 computed\n",
      "  0.00s loading features ...\n",
      "   |     0.03s B analyzed_form        from /Users/dirk/github/etcbc/calap/tf/2014\n",
      "   |     0.02s B determination        from /Users/dirk/github/etcbc/calap/tf/2014\n",
      "   |     0.01s B emf                  from /Users/dirk/github/etcbc/calap/tf/2014\n",
      "   |     0.01s B frv                  from /Users/dirk/github/etcbc/calap/tf/2014\n",
      "   |     0.02s B gender               from /Users/dirk/github/etcbc/calap/tf/2014\n",
      "   |     0.03s B is_apposition        from /Users/dirk/github/etcbc/calap/tf/2014\n",
      "   |     0.02s B lexeme               from /Users/dirk/github/etcbc/calap/tf/2014\n",
      "   |     0.02s B morph_state          from /Users/dirk/github/etcbc/calap/tf/2014\n",
      "   |     0.02s B nme                  from /Users/dirk/github/etcbc/calap/tf/2014\n",
      "   |     0.03s B number               from /Users/dirk/github/etcbc/calap/tf/2014\n",
      "   |     0.02s B pdpsp                from /Users/dirk/github/etcbc/calap/tf/2014\n",
      "   |     0.02s B person               from /Users/dirk/github/etcbc/calap/tf/2014\n",
      "   |     0.01s B pfm                  from /Users/dirk/github/etcbc/calap/tf/2014\n",
      "   |     0.01s B pfx                  from /Users/dirk/github/etcbc/calap/tf/2014\n",
      "   |     0.02s B phrase_atom_relation from /Users/dirk/github/etcbc/calap/tf/2014\n",
      "   |     0.02s B phrase_atom_type     from /Users/dirk/github/etcbc/calap/tf/2014\n",
      "   |     0.02s B phrase_function      from /Users/dirk/github/etcbc/calap/tf/2014\n",
      "   |     0.02s B phrase_type          from /Users/dirk/github/etcbc/calap/tf/2014\n",
      "   |     0.02s B prs                  from /Users/dirk/github/etcbc/calap/tf/2014\n",
      "   |     0.02s B psp                  from /Users/dirk/github/etcbc/calap/tf/2014\n",
      "   |     0.02s B state                from /Users/dirk/github/etcbc/calap/tf/2014\n",
      "   |     0.02s B stem                 from /Users/dirk/github/etcbc/calap/tf/2014\n",
      "   |     0.02s B tense                from /Users/dirk/github/etcbc/calap/tf/2014\n",
      "   |     0.01s B vbe                  from /Users/dirk/github/etcbc/calap/tf/2014\n",
      "   |     0.01s B vbs                  from /Users/dirk/github/etcbc/calap/tf/2014\n",
      "   |     0.00s B verse_label          from /Users/dirk/github/etcbc/calap/tf/2014\n",
      "   |     0.02s B vix                  from /Users/dirk/github/etcbc/calap/tf/2014\n",
      "   |     0.02s B voice                from /Users/dirk/github/etcbc/calap/tf/2014\n",
      "   |     0.01s B vpm                  from /Users/dirk/github/etcbc/calap/tf/2014\n",
      "   |     0.00s Feature overview: 36 for nodes; 1 for edges; 2 configs; 7 computed\n",
      "  0.58s All features loaded/computed - for details use loadLog()\n"
     ]
    }
   ],
   "source": [
    "TF = Fabric(locations=CALAP, modules=[''])\n",
    "api = TF.load('')\n",
    "\n",
    "allFeatures = TF.explore(silent=False, show=True)\n",
    "loadableFeatures = allFeatures['nodes'] + allFeatures['edges']\n",
    "api = TF.load(loadableFeatures)\n",
    "api.makeAvailableIn(globals())"
   ]
  },
  {
   "cell_type": "markdown",
   "metadata": {},
   "source": [
    "# First verse in all formats\n",
    "\n",
    "In order to show the syriac text, you need to install a font that has glyphs for the syriac unicode characters (0700 - 074F).\n",
    "For example: Estrangelo Edessa from [Meltho](http://www.bethmardutho.org/index.php/resources/fonts.html)."
   ]
  },
  {
   "cell_type": "code",
   "execution_count": 4,
   "metadata": {
    "ExecuteTime": {
     "end_time": "2018-02-16T10:47:41.366489Z",
     "start_time": "2018-02-16T10:47:41.314710Z"
    }
   },
   "outputs": [
    {
     "data": {
      "text/plain": [
       "(('-', 53409), ('J', 493), ('W', 8), ('G', 5), ('WR', 5))"
      ]
     },
     "execution_count": 4,
     "metadata": {},
     "output_type": "execute_result"
    }
   ],
   "source": [
    "F.vix.freqList()"
   ]
  },
  {
   "cell_type": "code",
   "execution_count": 6,
   "metadata": {},
   "outputs": [
    {
     "name": "stdout",
     "output_type": "stream",
     "text": [
      "text-orig-full\n",
      "\tܘ ܡܠܟܐ ܕܘܝܕ ܣܐܒ ܘ ܥܠ ܒ ܫܢܝܐ ܘ ܡܟܣܝܢ ܗܘܘ \n",
      "text-trans-full\n",
      "\tW MLK> DWJD S>B W <L B CNJ> W MKSJN HWW \n"
     ]
    }
   ],
   "source": [
    "for fmt in T.formats:\n",
    "    print('{}'.format(fmt))\n",
    "    print('\\t{}'.format(T.text(range(1,12), fmt=fmt)))"
   ]
  },
  {
   "cell_type": "markdown",
   "metadata": {},
   "source": [
    "# Generate full text locally\n",
    "\n",
    "We generate the full text with book, chapter and verse divisions, transliterated and in unicode."
   ]
  },
  {
   "cell_type": "code",
   "execution_count": 7,
   "metadata": {},
   "outputs": [],
   "source": [
    "for fmt in T.formats:\n",
    "    with open(f'{thisTemp}/{fmt}.txt', 'w') as fh:\n",
    "        for b in F.otype.s('book'):\n",
    "            book = T.sectionFromNode(b)[0]\n",
    "            fh.write(f'\\n\\nBOOK {book}\\n')\n",
    "            for c in L.d(b, otype='chapter'):\n",
    "                chapter = T.sectionFromNode(c)[1]\n",
    "                fh.write(f'\\n{book} {chapter}\\n\\n')\n",
    "                for v in L.d(c, otype='verse'):\n",
    "                    verse = T.sectionFromNode(v)[2]\n",
    "                    text = T.text(L.d(v, otype='word'), fmt=fmt)\n",
    "                    fh.write(f'{verse} {text}\\n')"
   ]
  },
  {
   "cell_type": "code",
   "execution_count": 8,
   "metadata": {},
   "outputs": [
    {
     "name": "stdout",
     "output_type": "stream",
     "text": [
      "\r\n",
      "\r\n",
      "BOOK I_Kings\r\n",
      "\r\n",
      "I_Kings 1\r\n",
      "\r\n",
      "1 ܘ ܡܠܟܐ ܕܘܝܕ ܣܐܒ ܘ ܥܠ ܒ ܫܢܝܐ ܘ ܡܟܣܝܢ ܗܘܘ ܠܗ ܒ ܠܒܘܫܐ ܘ ܠܐ ܫܚܢ \r\n",
      "2 ܘ ܐܡܪܘ ܠܗ ܥܒܕܘܗܝ ܗܐ ܥܒܕܝܟ ܩܕܡܝܟ ܢܒܥܘܢ ܠ ܡܪܢ ܡܠܟܐ ܥܠܝܡܬܐ ܒܬܘܠܬܐ ܘ ܬܩܘܡ ܩܕܡ ܡܠܟܐ ܘ ܬܗܘܐ ܠܗ ܡܫܡܫܢܝܬܐ ܘ ܬܫܟܒ ܒ ܥܘܒܟ ܘ ܢܫܚܢ ܠ ܡܪܢ ܡܠܟܐ \r\n",
      "3 ܘ ܒܥܘ ܥܠܝܡܬܐ ܕ ܫܦܝܪܐ ܒ ܟܠܗ ܬܚܘܡܐ ܕ ܐܝܣܪܝܠ ܘ ܐܫܟܚܘ ܠ ܐܒܝܫܓ ܫܝܠܘܡܝܬܐ ܘ ܐܝܬܝܘܗ ܠ ܡܠܟܐ \r\n",
      "4 ܘ ܥܠܝܡܬܐ ܫܦܝܪܐ ܗܘܬ ܒ ܚܙܘܗ ܛܒ ܘ ܗܘܬ ܠ ܡܠܟܐ ܡܫܡܫܢܝܬܐ ܘ ܡܫܡܫܐ ܠܗ ܘ ܡܠܟܐ ܠܐ ܝܕܥܗ \r\n"
     ]
    }
   ],
   "source": [
    "!head -n 10 {thisTemp}/text-orig-full.txt"
   ]
  },
  {
   "cell_type": "code",
   "execution_count": 9,
   "metadata": {},
   "outputs": [
    {
     "name": "stdout",
     "output_type": "stream",
     "text": [
      "\r\n",
      "\r\n",
      "BOOK I_Kings\r\n",
      "\r\n",
      "I_Kings 1\r\n",
      "\r\n",
      "1 W MLK> DWJD S>B W <L B CNJ> W MKSJN HWW LH B LBWC> W L> CXN \r\n",
      "2 W >MRW LH <BDWHJ H> <BDJK QDMJK NB<WN L MRN MLK> <LJMT> BTWLT> W TQWM QDM MLK> W THW> LH MCMCNJT> W TCKB B <WBK W NCXN L MRN MLK> \r\n",
      "3 W B<W <LJMT> D CPJR> B KLH TXWM> D >JSRJL W >CKXW L >BJCG CJLWMJT> W >JTJWH L MLK> \r\n",
      "4 W <LJMT> CPJR> HWT B XZWH VB W HWT L MLK> MCMCNJT> W MCMC> LH W MLK> L> JD<H \r\n"
     ]
    }
   ],
   "source": [
    "!head -n 10 {thisTemp}/text-trans-full.txt"
   ]
  },
  {
   "cell_type": "markdown",
   "metadata": {},
   "source": [
    "# Distribution of part of speech"
   ]
  },
  {
   "cell_type": "code",
   "execution_count": 4,
   "metadata": {},
   "outputs": [
    {
     "data": {
      "text/plain": [
       "(('noun', 18087),\n",
       " ('preposition', 13991),\n",
       " ('verb', 9744),\n",
       " ('conjunction', 7270),\n",
       " ('pronoun', 1553),\n",
       " ('adjective', 1463),\n",
       " ('negative', 1123),\n",
       " ('adverb', 511),\n",
       " ('interjection', 136),\n",
       " ('interrogative', 42))"
      ]
     },
     "execution_count": 4,
     "metadata": {},
     "output_type": "execute_result"
    }
   ],
   "source": [
    "F.psp.freqList()"
   ]
  },
  {
   "cell_type": "markdown",
   "metadata": {},
   "source": [
    "# Distribution of phrase type"
   ]
  },
  {
   "cell_type": "code",
   "execution_count": 5,
   "metadata": {},
   "outputs": [
    {
     "data": {
      "text/plain": [
       "(('VP', 9259),\n",
       " ('CP', 8441),\n",
       " ('PP', 7418),\n",
       " ('NP', 5452),\n",
       " ('NegP', 1113),\n",
       " ('PrNP', 1012),\n",
       " ('PPrP', 951),\n",
       " ('AdvP', 439),\n",
       " ('AdjP', 396),\n",
       " ('IPrP', 176),\n",
       " ('InjP', 136),\n",
       " ('DPrP', 85),\n",
       " ('InrP', 17))"
      ]
     },
     "execution_count": 5,
     "metadata": {},
     "output_type": "execute_result"
    }
   ],
   "source": [
    "F.phrase_type.freqList()"
   ]
  },
  {
   "cell_type": "code",
   "execution_count": 5,
   "metadata": {},
   "outputs": [
    {
     "name": "stdout",
     "output_type": "stream",
     "text": [
      "\r\n",
      "I_Kings\r\n",
      "I_Kings 1\r\n",
      "1:1 ܘ ܡܠܟܐ ܕܘܝܕ ܣܐܒ ܘ ܥܠ ܒ ܫܢܝܐ ܘ ܡܟܣܝܢ ܗܘܘ ܠܗ ܒ ܠܒܘܫܐ ܘ ܠܐ ܫܚܢ \r\n",
      "1:2 ܘ ܐܡܪܘ ܠܗ ܥܒܕܘܗܝ ܗܐ ܥܒܕܝܟ ܩܕܡܝܟ ܢܒܥܘܢ ܠ ܡܪܢ ܡܠܟܐ ܥܠܝܡܬܐ ܒܬܘܠܬܐ ܘ ܬܩܘܡ ܩܕܡ ܡܠܟܐ ܘ ܬܗܘܐ ܠܗ ܡܫܡܫܢܝܬܐ ܘ ܬܫܟܒ ܒ ܥܘܒܟ ܘ ܢܫܚܢ ܠ ܡܪܢ ܡܠܟܐ \r\n",
      "1:3 ܘ ܒܥܘ ܥܠܝܡܬܐ ܕ ܫܦܝܪܐ ܒ ܟܠܗ ܬܚܘܡܐ ܕ ܐܝܣܪܝܠ ܘ ܐܫܟܚܘ ܠ ܐܒܝܫܓ ܫܝܠܘܡܝܬܐ ܘ ܐܝܬܝܘܗ ܠ ܡܠܟܐ \r\n",
      "1:4 ܘ ܥܠܝܡܬܐ ܫܦܝܪܐ ܗܘܬ ܒ ܚܙܘܗ ܛܒ ܘ ܗܘܬ ܠ ܡܠܟܐ ܡܫܡܫܢܝܬܐ ܘ ܡܫܡܫܐ ܠܗ ܘ ܡܠܟܐ ܠܐ ܝܕܥܗ \r\n",
      "1:5 ܘ ܐܕܘܢܝܐ ܒܪ ܚܓܝܬ ܡܬܪܘܪܒ ܘ ܐܡܪ ܐܢܐ ܐܡܠܟ ܘ ܥܒܕ ܠܗ ܡܪܟܒܬܐ ܘ ܦܪܫܐ ܘ ܚܡܫܝܢ ܓܒܪܝܢ ܕ ܪܗܛܝܢ ܗܘܘ ܩܕܡܘܗܝ \r\n",
      "1:6 ܘ ܠܐ ܟܐܐ ܒܗ ܐܒܘܗܝ ܡܢ ܝܘܡܘܗܝ ܘ ܐܡܪ ܠܗ ܡܛܠ ܡܢܐ ܗܟܢܐ ܥܒܕ ܐܢܬ ܘ ܐܦ ܗܘ ܫܦܝܪ ܗܘܐ ܒ ܚܙܘܗ ܛܒ ܘ ܠܗ ܝܠܕܬ ܒܬܪ ܐܒܫܠܘܡ \r",
      "\r\n",
      "1:7 ܘ ܗܘܘ ܦܬܓܡܘܗܝ ܥܡ ܝܘܐܒ ܒܪ ܨܘܪܝܐ ܘ ܥܡ ܐܒܝܬܪ ܟܗܢܐ ܘ ܡܥܕܪܝܢ ܒܬܪ ܐܕܘܢܝܐ \r\n"
     ]
    }
   ],
   "source": [
    "!head -n 10 {my_file('calap_plainx.txt')}"
   ]
  },
  {
   "cell_type": "code",
   "execution_count": null,
   "metadata": {},
   "outputs": [],
   "source": []
  }
 ],
 "metadata": {
  "kernelspec": {
   "display_name": "Python 3",
   "language": "python",
   "name": "python3"
  },
  "language_info": {
   "codemirror_mode": {
    "name": "ipython",
    "version": 3
   },
   "file_extension": ".py",
   "mimetype": "text/x-python",
   "name": "python",
   "nbconvert_exporter": "python",
   "pygments_lexer": "ipython3",
   "version": "3.6.4"
  },
  "toc": {
   "nav_menu": {},
   "number_sections": true,
   "sideBar": true,
   "skip_h1_title": false,
   "toc_cell": false,
   "toc_position": {},
   "toc_section_display": "block",
   "toc_window_display": false
  }
 },
 "nbformat": 4,
 "nbformat_minor": 1
}
